{
 "cells": [
  {
   "cell_type": "code",
   "execution_count": null,
   "id": "ccb4bbc0",
   "metadata": {},
   "outputs": [],
   "source": [
    "%matplotlib inline\n",
    "\n",
    "import matplotlib.pyplot as plt\n",
    "import matplotlib\n",
    "import pandas as pd\n",
    "import numpy as np\n",
    "import awkward as ak\n",
    "import os\n",
    "import pint\n",
    "import glob\n",
    "import re\n",
    "from functools import partial\n",
    "\n",
    "# I use the SiPM QC Analysis kernel (from .venv/bin)\n",
    "\n",
    "u = pint.get_application_registry()\n",
    "\n",
    "from lgdo import lh5\n",
    "from lgdo.lh5 import LH5Store, LH5Iterator, read, read_as, ls, show\n",
    "from dspeed.vis.waveform_browser import WaveformBrowser\n",
    "from legendmeta import LegendMetadata\n",
    "\n",
    "from latools.utils import get_key_for_rawid, get_detector_system_for_channelname, get_filtered_keys_in_detectorsystem\n",
    "from latools import core\n",
    "from latools.browse import BrowseTask, BrowseAnydetTask\n",
    "from latools.histogram import HistogramTask, Histogram2DTask, CategoricalHistogramTask, CategoricalHistogram2DTask\n",
    "from latools.counter import CountTask\n",
    "\n",
    "plt.rcParams[\"figure.figsize\"] = (14, 4)\n",
    "plt.rcParams[\"figure.facecolor\"] = \"white\"\n",
    "plt.rcParams[\"font.size\"] = 14\n",
    "\n",
    "proj_dir = \"/mnt/atlas02/projects/legend/sipm_qc\"\n",
    "lmeta = LegendMetadata(os.path.join(proj_dir, \"metadata/legend-metadata-schwarz\"))\n",
    "chmap = lmeta.channelmap(\"20250624T140504Z\")"
   ]
  },
  {
   "cell_type": "code",
   "execution_count": null,
   "id": "5c1c5884",
   "metadata": {},
   "outputs": [],
   "source": [
    "dsp_config_file = os.path.join(proj_dir, \"ana/custom_chains/new_xtalkfinder.yaml\")\n",
    "\n",
    "raw_dir = os.path.join(proj_dir, \"data/tier/raw/lac/p14/r006\")\n",
    "\n",
    "raw_examples: list[tuple[str,list[int]]] = []\n",
    "def add_raw(file, ints): \n",
    "    raw_examples.append((os.path.join(raw_dir, file), ints))\n",
    "add_raw(\"l200-p14-r006-lac-20250624T140504Z-tier_raw.lh5\", [217, 541, 900, 1263, 1594, 1922, 2219, 2554, 2898, 3242, 3567, 3921, 4304, 4644, 5001, 5345, 5676, 5986, 6325, 6988, 7298, 7635, 7983, 8309, 8642, 8974, 9326, 9672, 10013])"
   ]
  },
  {
   "cell_type": "code",
   "execution_count": null,
   "id": "add2b943",
   "metadata": {},
   "outputs": [],
   "source": [
    "browser = WaveformBrowser(\n",
    "    raw_examples[0][0],\n",
    "    \"S015/raw\",\n",
    "    dsp_config=dsp_config_file,\n",
    "    lines=[\"wf_blsub\", \"trapped_wf\"],\n",
    "    styles=[\n",
    "        #{\"color\": [\"skyblue\"], \"ls\": [\"dotted\"]},\n",
    "        {\"color\": [\"skyblue\"]},\n",
    "    ],\n",
    "    #x_lim=[48*u.us, 54*u.us],\n",
    ")\n",
    "browser.draw_entry(raw_examples[0][1][1])"
   ]
  },
  {
   "cell_type": "code",
   "execution_count": null,
   "id": "596fad51",
   "metadata": {},
   "outputs": [],
   "source": []
  }
 ],
 "metadata": {
  "kernelspec": {
   "display_name": "SiPM QC Analysis",
   "language": "python",
   "name": "sipm_qc_ana"
  },
  "language_info": {
   "codemirror_mode": {
    "name": "ipython",
    "version": 3
   },
   "file_extension": ".py",
   "mimetype": "text/x-python",
   "name": "python",
   "nbconvert_exporter": "python",
   "pygments_lexer": "ipython3",
   "version": "3.12.10"
  }
 },
 "nbformat": 4,
 "nbformat_minor": 5
}
