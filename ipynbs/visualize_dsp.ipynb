{
 "cells": [
  {
   "cell_type": "code",
   "execution_count": null,
   "id": "ccb4bbc0",
   "metadata": {},
   "outputs": [],
   "source": [
    "%matplotlib inline\n",
    "\n",
    "import matplotlib.pyplot as plt\n",
    "import matplotlib\n",
    "import pandas as pd\n",
    "import numpy as np\n",
    "import awkward as ak\n",
    "import os\n",
    "import pint\n",
    "import glob\n",
    "import re\n",
    "from functools import partial\n",
    "\n",
    "# I use the SiPM QC Analysis kernel (from .venv/bin)\n",
    "\n",
    "u = pint.get_application_registry()\n",
    "\n",
    "from lgdo import lh5\n",
    "from lgdo.lh5 import LH5Store, LH5Iterator, read, read_as, ls, show\n",
    "from dspeed.vis.waveform_browser import WaveformBrowser\n",
    "from legendmeta import LegendMetadata\n",
    "\n",
    "from latools.utils import get_key_for_rawid, get_detector_system_for_channelname, get_filtered_keys_in_detectorsystem\n",
    "from latools import core\n",
    "from latools.browse import BrowseTask, BrowseAnydetTask\n",
    "from latools.histogram import HistogramTask, Histogram2DTask, CategoricalHistogramTask, CategoricalHistogram2DTask\n",
    "from latools.counter import CountTask\n",
    "\n",
    "plt.rcParams[\"figure.figsize\"] = (14, 4)\n",
    "plt.rcParams[\"figure.facecolor\"] = \"white\"\n",
    "plt.rcParams[\"font.size\"] = 14\n",
    "\n",
    "proj_dir = \"/mnt/atlas02/projects/legend/sipm_qc\"\n",
    "lmeta = LegendMetadata(os.path.join(proj_dir, \"metadata/legend-metadata-schwarz\"))\n",
    "chmap = lmeta.channelmap(\"20250624T140504Z\")"
   ]
  },
  {
   "cell_type": "code",
   "execution_count": null,
   "id": "5c1c5884",
   "metadata": {},
   "outputs": [],
   "source": [
    "def gimme_raw_filename_from_dsp(raw_dir: str, dsp_dir: str, dspfilename: str) -> str:\n",
    "    return dspfilename.replace(dsp_dir, raw_dir).replace(\"tier_dsp\", \"tier_raw\")\n",
    "raw_dir = os.path.join(proj_dir, \"data/tier/raw/lac/p14/r006\")\n",
    "my_dsp_dir = os.path.join(proj_dir, \"manual_dsp/generated/p14r006dsp\")\n",
    "dsp_file = os.path.join(my_dsp_dir, \"l200-p14-r006-lac-20250624T140504Z-tier_dsp.lh5\")\n",
    "raw_file = gimme_raw_filename_from_dsp(raw_dir, my_dsp_dir, dsp_file)\n",
    "#dsp_config_file = os.path.join(proj_dir, \"metadata/legend-metadata-schwarz/dataprod/config/tier/dsp/l200-p14-r%-T%-SiPM-dsp_proc_chain.yaml\")\n",
    "dsp_config_file = os.path.join(proj_dir, \"ana/custom_chains/browse_chain.yaml\")"
   ]
  },
  {
   "cell_type": "code",
   "execution_count": null,
   "id": "add2b943",
   "metadata": {},
   "outputs": [],
   "source": [
    "browser = WaveformBrowser(\n",
    "    raw_file,\n",
    "    \"S015/raw\",\n",
    "    dsp_config=dsp_config_file,\n",
    "    lines=[\"waveform_bit_drop\", \"tp_max_small\", \"wf_max_small\"],\n",
    "    styles=[\n",
    "        {\"color\": [\"skyblue\"], \"ls\": [\"dotted\"]},\n",
    "    ],\n",
    ")\n",
    "browser.draw_entry(12)"
   ]
  },
  {
   "cell_type": "code",
   "execution_count": null,
   "id": "e930b59e",
   "metadata": {},
   "outputs": [],
   "source": [
    "browser = WaveformBrowser(\n",
    "    raw_file,\n",
    "    \"S015/raw\",\n",
    "    dsp_config=dsp_config_file,\n",
    "    lines=[\"waveform_bit_drop\", \"wf_short\"],\n",
    "    styles=[\n",
    "        {\"color\": [\"skyblue\"], \"ls\": [\"dotted\"]},\n",
    "    ],\n",
    ")\n",
    "browser.draw_entry(12)"
   ]
  },
  {
   "cell_type": "code",
   "execution_count": null,
   "id": "596fad51",
   "metadata": {},
   "outputs": [],
   "source": []
  }
 ],
 "metadata": {
  "kernelspec": {
   "display_name": "SiPM QC Analysis",
   "language": "python",
   "name": "sipm_qc_ana"
  },
  "language_info": {
   "codemirror_mode": {
    "name": "ipython",
    "version": 3
   },
   "file_extension": ".py",
   "mimetype": "text/x-python",
   "name": "python",
   "nbconvert_exporter": "python",
   "pygments_lexer": "ipython3",
   "version": "3.12.10"
  }
 },
 "nbformat": 4,
 "nbformat_minor": 5
}
