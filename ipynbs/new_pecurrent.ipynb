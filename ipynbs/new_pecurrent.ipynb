{
 "cells": [
  {
   "cell_type": "code",
   "execution_count": null,
   "id": "ccb4bbc0",
   "metadata": {},
   "outputs": [],
   "source": [
    "%matplotlib inline\n",
    "\n",
    "import matplotlib.pyplot as plt\n",
    "import matplotlib\n",
    "import pandas as pd\n",
    "import numpy as np\n",
    "import awkward as ak\n",
    "import os\n",
    "import pint\n",
    "import glob\n",
    "import re\n",
    "from functools import partial\n",
    "import itertools\n",
    "from cycler import cycler\n",
    "\n",
    "# I use the SiPM QC Analysis kernel (from .venv/bin)\n",
    "\n",
    "u = pint.get_application_registry()\n",
    "\n",
    "import lgdo # for impl histbrowser\n",
    "from lgdo import lh5\n",
    "from lgdo.lh5 import LH5Store, LH5Iterator, read, read_as, ls, show\n",
    "from dspeed.vis.waveform_browser import WaveformBrowser\n",
    "from dspeed.vis import WaveformAndHistBrowser\n",
    "from legendmeta import LegendMetadata\n",
    "\n",
    "from latools.utils import get_key_for_rawid, get_detector_system_for_channelname, get_filtered_keys_in_detectorsystem\n",
    "from latools import core\n",
    "from latools.browse import BrowseTask, BrowseAnydetTask\n",
    "from latools.histogram import HistogramTask, Histogram2DTask, CategoricalHistogramTask, CategoricalHistogram2DTask\n",
    "from latools.counter import CountTask\n",
    "\n",
    "plt.rcParams[\"figure.figsize\"] = (14, 4)\n",
    "plt.rcParams[\"figure.facecolor\"] = \"white\"\n",
    "plt.rcParams[\"font.size\"] = 14\n",
    "\n",
    "proj_dir = \"/mnt/atlas02/projects/legend/sipm_qc\"\n",
    "lmeta = LegendMetadata(os.path.join(proj_dir, \"metadata/legend-metadata-schwarz\"))\n",
    "chmap = lmeta.channelmap(\"20250624T140504Z\")"
   ]
  },
  {
   "cell_type": "code",
   "execution_count": null,
   "id": "5c1c5884",
   "metadata": {},
   "outputs": [],
   "source": [
    "dsp_config_file = os.path.join(proj_dir, \"ana/custom_chains/new_pecurrent.yaml\")\n",
    "\n",
    "raw_dir = os.path.join(proj_dir, \"data/tier/raw/lac/p14/r006\")\n",
    "\n",
    "raw_examples: list[tuple[str,list[int]]] = []\n",
    "def add_raw(file, ints): \n",
    "    raw_examples.append((os.path.join(raw_dir, file), ints))\n",
    "\n",
    "def get_example(index: int):\n",
    "    prod = []\n",
    "    for f, ixs in raw_examples:\n",
    "        prod += (list(itertools.product([f], ixs)))\n",
    "    print(prod)\n",
    "    return prod[index]\n",
    "\n",
    "# S015 xtalk from pulser (also S055 has xtalk here but much weaker):\n",
    "add_raw(\"l200-p14-r006-lac-20250624T140504Z-tier_raw.lh5\", [217, 541, 900, 1263, 1594, 1922, 2219, 2554, 2898, 3242, 3567, 3921, 4304, 4644, 5001, 5345, 5676, 5986, 6325, 6988, 7298, 7635, 7983, 8309, 8642, 8974, 9326, 9672, 10013])\n",
    "# S015 bad current due to huge pulse:\n",
    "#add_raw(\"l200-p14-r006-lac-20250624T140706Z-tier_raw.lh5\", [6938, 7826]) # bad current\n",
    "# S055 false positive for old is_noise\n",
    "# add_raw(\"l200-p14-r006-lac-20250624T140504Z-tier_raw.lh5\", [1894, 2730, 4218, 5312, 5478, 6596, 7608, 8416])\n",
    "# S055 strong and tagged noise burst:\n",
    "#add_raw(\"l200-p14-r006-lac-20250624T164258Z-tier_raw.lh5\", [170])"
   ]
  },
  {
   "cell_type": "code",
   "execution_count": null,
   "id": "981e6d1c",
   "metadata": {},
   "outputs": [],
   "source": [
    "the_spm=\"S055/raw\"\n",
    "raw_file, raw_index = get_example(0)"
   ]
  },
  {
   "cell_type": "code",
   "execution_count": null,
   "id": "6ea8ce96",
   "metadata": {},
   "outputs": [],
   "source": [
    "wahbrowser = WaveformAndHistBrowser(\n",
    "    raw_file,\n",
    "    the_spm,\n",
    "    dsp_config=dsp_config_file,\n",
    "    lines=[\"wf_curr\", \"curr_mode\", \"trigger_pos\", \"energy\"],\n",
    "    styles=[\n",
    "        #{\"color\": [\"skyblue\"], \"ls\": [\"dotted\"]},\n",
    "    ],\n",
    "    hist_values_edges=(\"curr_hist\", \"curr_borders\"),\n",
    "    hist_styles=[\n",
    "        {\"color\": [\"red\",\"green\"]}\n",
    "    ],\n",
    "    #hist_log=True,\n",
    "    #vertical_hist=True\n",
    "    x_lim=[25*u.us, 66*u.us],\n",
    "    #y_lim=[-0.2,0.2]\n",
    ")\n",
    "wahbrowser.draw_entry([raw_index+2])"
   ]
  },
  {
   "cell_type": "code",
   "execution_count": null,
   "id": "9976c9b8",
   "metadata": {},
   "outputs": [],
   "source": [
    "wahbrowser = WaveformAndHistBrowser(\n",
    "    raw_file,\n",
    "    the_spm,\n",
    "    dsp_config=dsp_config_file,\n",
    "    lines=[\"wf_curr_new\", \"curr_mode_new\"],\n",
    "    styles=[\n",
    "        {\"color\": [\"skyblue\"], \"ls\": [\"dotted\"]},\n",
    "    ],\n",
    "    hist_values_edges=(\"curr_hist_new\", \"curr_borders_new\"),\n",
    "    hist_styles=[\n",
    "        {\"color\": [\"red\",\"green\"]}\n",
    "    ],\n",
    "    #hist_log=True,\n",
    "    #vertical_hist=True\n",
    "    #x_lim=[25*u.us, 66*u.us],\n",
    "    #y_lim=[-0.2,0.2]\n",
    ")\n",
    "wahbrowser.draw_entry([raw_index+2])"
   ]
  },
  {
   "cell_type": "code",
   "execution_count": null,
   "id": "596fad51",
   "metadata": {},
   "outputs": [],
   "source": [
    "browser = WaveformBrowser(\n",
    "    raw_file,\n",
    "    the_spm,\n",
    "    dsp_config=dsp_config_file,\n",
    "    lines=[\"waveform_bit_drop\", \"wf_gaus\"],\n",
    "    styles=[\n",
    "        #{\"color\": [\"skyblue\"], \"ls\": [\"dotted\"]},\n",
    "        {\"color\": [\"skyblue\"]},\n",
    "    ],\n",
    "    #x_lim=[48*u.us, 54*u.us],\n",
    ")\n",
    "browser.draw_entry(raw_index+3)"
   ]
  },
  {
   "cell_type": "code",
   "execution_count": null,
   "id": "60654499",
   "metadata": {},
   "outputs": [],
   "source": []
  }
 ],
 "metadata": {
  "kernelspec": {
   "display_name": "SiPM QC Analysis",
   "language": "python",
   "name": "sipm_qc_ana"
  },
  "language_info": {
   "codemirror_mode": {
    "name": "ipython",
    "version": 3
   },
   "file_extension": ".py",
   "mimetype": "text/x-python",
   "name": "python",
   "nbconvert_exporter": "python",
   "pygments_lexer": "ipython3",
   "version": "3.12.10"
  }
 },
 "nbformat": 4,
 "nbformat_minor": 5
}
