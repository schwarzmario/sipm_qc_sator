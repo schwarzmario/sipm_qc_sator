{
 "cells": [
  {
   "cell_type": "markdown",
   "id": "35a2312e",
   "metadata": {},
   "source": [
    "## Analysis correlating evt and raw"
   ]
  },
  {
   "cell_type": "code",
   "execution_count": null,
   "id": "a00a1f61",
   "metadata": {},
   "outputs": [],
   "source": [
    "%matplotlib inline\n",
    "\n",
    "import matplotlib.pyplot as plt\n",
    "import matplotlib\n",
    "import pandas as pd\n",
    "import numpy as np\n",
    "import awkward as ak\n",
    "import os\n",
    "import pint\n",
    "import glob\n",
    "import re\n",
    "from functools import partial\n",
    "\n",
    "# I use the SiPM QC Analysis kernel (from .venv/bin)\n",
    "\n",
    "u = pint.get_application_registry()\n",
    "\n",
    "from lgdo import lh5\n",
    "from lgdo.lh5 import LH5Store, LH5Iterator, read, read_as, ls, show\n",
    "from dspeed.vis.waveform_browser import WaveformBrowser\n",
    "from legendmeta import LegendMetadata\n",
    "\n",
    "from latools.utils import get_key_for_rawid, get_detector_system_for_channelname, get_filtered_keys_in_detectorsystem\n",
    "from latools import core\n",
    "from latools.browse import BrowseTask, BrowseAnydetTask\n",
    "from latools.histogram import HistogramTask, Histogram2DTask, CategoricalHistogramTask, CategoricalHistogram2DTask\n",
    "from latools.counter import CountTask\n",
    "\n",
    "plt.rcParams[\"figure.figsize\"] = (14, 4)\n",
    "plt.rcParams[\"figure.facecolor\"] = \"white\"\n",
    "plt.rcParams[\"font.size\"] = 14\n",
    "\n",
    "proj_dir = \"/mnt/atlas02/projects/legend/sipm_qc\"\n",
    "lmeta = LegendMetadata(os.path.join(proj_dir, \"metadata/legend-metadata-schwarz\"))\n",
    "chmap = lmeta.channelmap(\"20250624T140504Z\")"
   ]
  },
  {
   "cell_type": "code",
   "execution_count": null,
   "id": "25a8b345",
   "metadata": {},
   "outputs": [],
   "source": [
    "def gimme_raw_filename_from_dsp(raw_dir: str, dsp_dir: str, dspfilename: str) -> str:\n",
    "    return dspfilename.replace(dsp_dir, raw_dir).replace(\"tier_dsp\", \"tier_raw\")\n",
    "\n",
    "def gimme_tier_filename_dict(raw_dir: str, dsp_dir: str) -> list[dict[str, str]]:\n",
    "    \"\"\"\n",
    "    Returns a list of dictionaries with keys 'raw' and 'dsp' for each file in dsp_dir.\n",
    "    The 'raw' key contains the corresponding raw file path.\n",
    "    \"\"\"\n",
    "    dsp_files = glob.glob(dsp_dir + \"/l200-*-tier_dsp.lh5\")\n",
    "    dsp_files.sort()\n",
    "    return [\n",
    "        {\n",
    "            \"raw\": gimme_raw_filename_from_dsp(raw_dir, dsp_dir, dsp_file),\n",
    "            \"dsp\": dsp_file\n",
    "        }\n",
    "        for dsp_file in dsp_files\n",
    "    ]\n",
    "\n",
    "my_dsp_dir = os.path.join(proj_dir, \"manual_dsp/generated/p14r006dsp\")\n",
    "up_dsp_dir = os.path.join(proj_dir, \"data/tier/dsp/lac/p14/r006\")\n",
    "raw_dir = os.path.join(proj_dir, \"data/tier/raw/lac/p14/r006\")\n",
    "\n",
    "compile_up_arrays = partial(core.compile_arrays, tier_filename_dict=gimme_tier_filename_dict(raw_dir, up_dsp_dir))\n",
    "compile_my_arrays = partial(core.compile_arrays, tier_filename_dict=gimme_tier_filename_dict(raw_dir, my_dsp_dir))"
   ]
  },
  {
   "cell_type": "code",
   "execution_count": null,
   "id": "5edd2a44",
   "metadata": {},
   "outputs": [],
   "source": [
    "# These 49 rawids I see in the event tier of p14 r006 lac. Some channels existing in raw & dsp (e.g. S054) don't show up here...\n",
    "rawids_used_in_evt = [1052803, 1052804, 1054401, 1054402, 1054403, 1054404, 1054405, 1056000, 1056001, 1056003, 1056004, 1056005, 1057601, 1057602, 1057603, 1057604, 1057605, 1059200, 1059201, 1059202, 1059204, 1059205, 1060801, 1060803, 1060804, 1060805, 1062400, 1062401, 1062402, 1062403, 1062404, 1062405, 1064000, 1064001, 1064002, 1064003, 1064004, 1065600, 1065601, 1065602, 1065603, 1065604, 1065605, 1067200, 1067201, 1067202, 1067203, 1067204, 1067205]\n",
    "usable_sipm_keys = get_filtered_keys_in_detectorsystem(chmap, \"spms\", rawids_used_in_evt)"
   ]
  },
  {
   "cell_type": "code",
   "execution_count": null,
   "id": "b457eb53",
   "metadata": {},
   "outputs": [],
   "source": [
    "# set up chain's input data\n",
    "inputArraysDef = []\n",
    "\n",
    "def generate_SiPM_hit_defs():\n",
    "    ret = []\n",
    "    for sipm in [\"S015\"]: # usable_sipm_keys: # get_keys_in_detectorsystem(chmap, \"spms\"):\n",
    "        ret += [(f\"{sipm}_wf_fwhm\", f\"{sipm}/dsp/wf_fwhm\"), (f\"{sipm}_wf_mode\", f\"{sipm}/dsp/wf_mode\"), (f\"{sipm}_wf_min_small\", f\"{sipm}/dsp/wf_min_small\"), (f\"{sipm}_wf_min\", f\"{sipm}/dsp/wf_min\")]\n",
    "        #ret += [(f\"{sipm}_curr_fwhm\", f\"{sipm}/dsp/curr_fwhm\"), (f\"{sipm}_curr_mode\", f\"{sipm}/dsp/curr_mode\"), (f\"{sipm}_curr_min_small\", f\"{sipm}/dsp/curr_min_small\")]\n",
    "    return ret\n",
    "inputArraysDef += generate_SiPM_hit_defs()"
   ]
  },
  {
   "cell_type": "code",
   "execution_count": null,
   "id": "13dc5f21",
   "metadata": {},
   "outputs": [],
   "source": [
    "# set up processing functions\n",
    "genArrayDef = []\n",
    "\n",
    "def generate_SiPM_hit_gen_defs():\n",
    "    ret = []\n",
    "    for sipm in [\"S015\"]: # usable_sipm_keys: # get_keys_in_detectorsystem(chmap, \"spms\"):\n",
    "        ret += [\n",
    "            ([f\"{sipm}_wf_min_small\", f\"{sipm}_wf_mode\"], f\"{sipm}_min_rel\", lambda x: x[0] - x[1]),\n",
    "            ([f\"{sipm}_min_rel\", f\"{sipm}_wf_fwhm\"], f\"{sipm}_any_noise_class\", lambda x: (-x[0])/(6*x[1])),\n",
    "            #([f\"{sipm}_curr_min_small\", f\"{sipm}_curr_mode\"], f\"{sipm}_curr_min_rel\", lambda x: x[0] - x[1]),\n",
    "            #([f\"{sipm}_min_rel\", f\"{sipm}_curr_fwhm\"], f\"{sipm}_curr_any_noise_class\", lambda x: (-x[0])/(6*x[1])),\n",
    "        ]\n",
    "    return ret\n",
    "genArrayDef += generate_SiPM_hit_gen_defs()"
   ]
  },
  {
   "cell_type": "code",
   "execution_count": null,
   "id": "f152f894",
   "metadata": {},
   "outputs": [],
   "source": [
    "my_arrays = compile_my_arrays(inputArraysDef, genArrayDef)\n",
    "up_arrays = compile_up_arrays(inputArraysDef, genArrayDef)"
   ]
  },
  {
   "cell_type": "code",
   "execution_count": null,
   "id": "82df522c",
   "metadata": {},
   "outputs": [],
   "source": [
    "core.oneshot([my_arrays[\"S015_wf_fwhm\"], up_arrays[\"S015_wf_fwhm\"]], Histogram2DTask(4,5,500,4,5,500, logz=True))"
   ]
  },
  {
   "cell_type": "code",
   "execution_count": null,
   "id": "822fda0c",
   "metadata": {},
   "outputs": [],
   "source": [
    "core.oneshot([my_arrays[\"S015_wf_mode\"], up_arrays[\"S015_wf_mode\"]], Histogram2DTask(3730,3750,100,3730,3750,100, logz=True))"
   ]
  },
  {
   "cell_type": "code",
   "execution_count": null,
   "id": "c0f9fcc1",
   "metadata": {},
   "outputs": [],
   "source": [
    "core.oneshot([my_arrays[\"S015_wf_min_small\"], up_arrays[\"S015_wf_min_small\"]], Histogram2DTask(3710,3750,100,3710,3750,100, logz=True))\n",
    "ak.all(my_arrays[\"S015_wf_min_small\"] == up_arrays[\"S015_wf_min_small\"])"
   ]
  },
  {
   "cell_type": "code",
   "execution_count": null,
   "id": "1d7c32b0",
   "metadata": {},
   "outputs": [],
   "source": [
    "core.oneshot([my_arrays[\"S015_wf_min\"], up_arrays[\"S015_wf_min\"]], Histogram2DTask(3730,3750,100,3730,3750,100, logz=True))\n",
    "ak.all(my_arrays[\"S015_wf_min\"] == up_arrays[\"S015_wf_min\"])"
   ]
  },
  {
   "cell_type": "code",
   "execution_count": null,
   "id": "bd055702",
   "metadata": {},
   "outputs": [],
   "source": []
  }
 ],
 "metadata": {
  "kernelspec": {
   "display_name": "SiPM QC Analysis",
   "language": "python",
   "name": "sipm_qc_ana"
  },
  "language_info": {
   "codemirror_mode": {
    "name": "ipython",
    "version": 3
   },
   "file_extension": ".py",
   "mimetype": "text/x-python",
   "name": "python",
   "nbconvert_exporter": "python",
   "pygments_lexer": "ipython3",
   "version": "3.12.10"
  }
 },
 "nbformat": 4,
 "nbformat_minor": 5
}
