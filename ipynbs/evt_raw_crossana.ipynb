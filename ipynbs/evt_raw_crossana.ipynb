{
 "cells": [
  {
   "cell_type": "markdown",
   "id": "35a2312e",
   "metadata": {},
   "source": [
    "## Analysis correlating evt and raw"
   ]
  },
  {
   "cell_type": "code",
   "execution_count": null,
   "id": "a00a1f61",
   "metadata": {},
   "outputs": [],
   "source": [
    "%matplotlib inline\n",
    "\n",
    "import matplotlib.pyplot as plt\n",
    "import matplotlib\n",
    "import pandas as pd\n",
    "import numpy as np\n",
    "import awkward as ak\n",
    "import os\n",
    "import pint\n",
    "import glob\n",
    "import re\n",
    "from functools import partial\n",
    "\n",
    "# I use the SiPM QC Analysis kernel (from .venv/bin)\n",
    "\n",
    "u = pint.get_application_registry()\n",
    "\n",
    "from lgdo import lh5\n",
    "from lgdo.lh5 import LH5Store, LH5Iterator, read, read_as, ls, show\n",
    "from dspeed.vis.waveform_browser import WaveformBrowser\n",
    "from legendmeta import LegendMetadata\n",
    "\n",
    "from latools.utils import get_key_for_rawid, get_detector_system_for_channelname, get_filtered_keys_in_detectorsystem\n",
    "from latools import core\n",
    "from latools.browse import BrowseTask, BrowseAnydetTask\n",
    "from latools.histogram import HistogramTask, Histogram2DTask, CategoricalHistogramTask, CategoricalHistogram2DTask\n",
    "from latools.counter import CountTask\n",
    "\n",
    "plt.rcParams[\"figure.figsize\"] = (14, 4)\n",
    "plt.rcParams[\"figure.facecolor\"] = \"white\"\n",
    "plt.rcParams[\"font.size\"] = 14\n",
    "\n",
    "proj_dir = \"/mnt/atlas02/projects/legend/sipm_qc\"\n",
    "lmeta = LegendMetadata(os.path.join(proj_dir, \"metadata/legend-metadata-schwarz\"))\n",
    "chmap = lmeta.channelmap(\"20250624T140504Z\")"
   ]
  },
  {
   "cell_type": "code",
   "execution_count": null,
   "id": "25a8b345",
   "metadata": {},
   "outputs": [],
   "source": [
    "dsp_dir = os.path.join(proj_dir, \"manual_dsp/generated/p14r006dsp\")\n",
    "dsp_files = glob.glob(dsp_dir+\"/l200-*-tier_dsp.lh5\")\n",
    "dsp_files.sort()\n",
    "\n",
    "raw_dir = os.path.join(proj_dir, \"data/tier/raw/lac/p14/r006\")\n",
    "\n",
    "def gimme_raw_filename_from_dsp(dspfilename: str):\n",
    "    return dspfilename.replace(dsp_dir, raw_dir).replace(\"tier_dsp\", \"tier_raw\")"
   ]
  },
  {
   "cell_type": "code",
   "execution_count": null,
   "id": "c2436415",
   "metadata": {},
   "outputs": [],
   "source": [
    "main_loop = partial(core.main_loop, tier_filename_dict=\n",
    "                    [{\"raw\": gimme_raw_filename_from_dsp(dsp), \"dsp\": dsp} for dsp in dsp_files])"
   ]
  },
  {
   "cell_type": "code",
   "execution_count": null,
   "id": "5edd2a44",
   "metadata": {},
   "outputs": [],
   "source": [
    "# These 49 rawids I see in the event tier of p14 r006 lac. Some channels existing in raw & dsp (e.g. S054) don't show up here...\n",
    "rawids_used_in_evt = [1052803, 1052804, 1054401, 1054402, 1054403, 1054404, 1054405, 1056000, 1056001, 1056003, 1056004, 1056005, 1057601, 1057602, 1057603, 1057604, 1057605, 1059200, 1059201, 1059202, 1059204, 1059205, 1060801, 1060803, 1060804, 1060805, 1062400, 1062401, 1062402, 1062403, 1062404, 1062405, 1064000, 1064001, 1064002, 1064003, 1064004, 1065600, 1065601, 1065602, 1065603, 1065604, 1065605, 1067200, 1067201, 1067202, 1067203, 1067204, 1067205]\n",
    "usable_sipm_keys = get_filtered_keys_in_detectorsystem(chmap, \"spms\", rawids_used_in_evt)"
   ]
  },
  {
   "cell_type": "code",
   "execution_count": null,
   "id": "b457eb53",
   "metadata": {},
   "outputs": [],
   "source": [
    "# set up chain's input data\n",
    "inputArraysDef = []\n",
    "\n",
    "def generate_SiPM_hit_defs():\n",
    "    ret = []\n",
    "    for sipm in [\"S055\"]: # usable_sipm_keys: # get_keys_in_detectorsystem(chmap, \"spms\"):\n",
    "        ret += [(f\"{sipm}_wf_fwhm\", f\"{sipm}/dsp/wf_fwhm\"), (f\"{sipm}_wf_mode\", f\"{sipm}/dsp/wf_mode\"), (f\"{sipm}_wf_min_small\", f\"{sipm}/dsp/wf_min_small\")]\n",
    "        ret += [(f\"{sipm}_curr_fwhm\", f\"{sipm}/dsp/curr_fwhm\"), (f\"{sipm}_curr_mode\", f\"{sipm}/dsp/curr_mode\"), (f\"{sipm}_curr_min_small\", f\"{sipm}/dsp/curr_min_small\")]\n",
    "    return ret\n",
    "inputArraysDef += generate_SiPM_hit_defs()"
   ]
  },
  {
   "cell_type": "code",
   "execution_count": null,
   "id": "13dc5f21",
   "metadata": {},
   "outputs": [],
   "source": [
    "# set up processing functions\n",
    "genArrayDef = []\n",
    "\n",
    "def generate_SiPM_hit_gen_defs():\n",
    "    ret = []\n",
    "    for sipm in [\"S055\"]: # usable_sipm_keys: # get_keys_in_detectorsystem(chmap, \"spms\"):\n",
    "        ret += [\n",
    "            ([f\"{sipm}_wf_min_small\", f\"{sipm}_wf_mode\"], f\"{sipm}_min_rel\", lambda x: x[0] - x[1]),\n",
    "            ([f\"{sipm}_min_rel\", f\"{sipm}_wf_fwhm\"], f\"{sipm}_any_noise_class\", lambda x: (-x[0])/(6*x[1])),\n",
    "            ([f\"{sipm}_curr_min_small\", f\"{sipm}_curr_mode\"], f\"{sipm}_curr_min_rel\", lambda x: x[0] - x[1]),\n",
    "            ([f\"{sipm}_min_rel\", f\"{sipm}_curr_fwhm\"], f\"{sipm}_curr_any_noise_class\", lambda x: (-x[0])/(6*x[1])),\n",
    "        ]\n",
    "    return ret\n",
    "genArrayDef += generate_SiPM_hit_gen_defs()"
   ]
  },
  {
   "cell_type": "code",
   "execution_count": null,
   "id": "69374b57",
   "metadata": {},
   "outputs": [],
   "source": [
    "# Stuff which generates understandable output\n",
    "browseAnydet = partial(BrowseAnydetTask, channelmap=chmap) # , blacklist=[\"S058\"])\n",
    "\n",
    "# hint: x[y] removed masked-out entries, removing rows\n",
    "# ak.mask(x,y) replaces masked-out entries with none, keeping the shape intact\n",
    "\n",
    "outDef = [\n",
    "    #([\"S055_any_noise_class\"], HistogramTask(-5,5, nbins=100, min_entries_required=20000000, logy=True)),\n",
    "    #([\"spms_isphys\", \"spms_rawid\"], BrowseTask(lambda x: ak.any((~x[0]) & (x[1]==chmap[\"S055\"].daq.rawid), axis=-1), \"S055\", max_entries=10)),\n",
    "    #([\"spms_isphys\", \"spms_rawid\"], BrowseTask(lambda x: ak.any((x[0]) & (x[1]==chmap[\"S055\"].daq.rawid), axis=-1), \"S055\", max_entries=10)),\n",
    "    #([\"S055_any_noise_class\"], BrowseTask(lambda x: x[0]>1, \"S055\", max_entries=20)),\n",
    "    #([\"S055_any_noise_class\", \"spms_isphys\", \"spms_rawid\"], Histogram2DTask(-1, 3, 50, -1, 2, 5, \n",
    "    #                                                                        lambda x: x[0], lambda x: ak.any((~x[1]) & (x[2]==chmap[\"S055\"].daq.rawid), -1), logz=True)),\n",
    "    #([\"spms_isphys\", \"spms_rawid\", \"coincident_puls\"], CategoricalHistogramTask(lambda x: ak.flatten(x[1][~x[0]][~x[2]], -1), keymap_fcn=partial(get_key_for_rawid, chmap), min_entries_required=10000)),\n",
    "    #([\"spms_isphys\", \"spms_rawid\", \"ge_energy\", \"ge_rawid\", \"coincident_puls\"], \n",
    "    # CategoricalHistogram2DTask(lambda x: x[1][~x[0]], lambda x: ak.mask(x[3][x[2] > 500], ~x[4]),\n",
    "    #                            mode=\"cartesian\", keymap_fcn=partial(get_key_for_rawid, chmap), min_entries_required=10000)),\n",
    "    ([\"S055_curr_min_rel\"], BrowseTask(lambda x: x[0] < -3, \"S055\", max_entries=10)),\n",
    "    ([\"S055_curr_min_rel\"], BrowseTask(lambda x: x[0] > 3, \"S055\", max_entries=10)),\n",
    "    ([\"S055_curr_fwhm\"], BrowseTask(lambda x: x[0] > 8, \"S055\", max_entries=10)),\n",
    "    ([\"S055_curr_min_small\"], BrowseTask(lambda x: x[0] > 2, \"S055\", max_entries=10)),\n",
    "    #([\"S073_min_rel\"], BrowseTask(lambda x: x[0] < -40, \"S073\", max_entries=10)),\n",
    "    #([\"S055_min_rel\"], BrowseTask(lambda x: x[0] < -40, \"S055\", max_entries=10)),\n",
    "    #([\"S071_min_rel\"], BrowseTask(lambda x: x[0] < -40, \"S071\", max_entries=10)),\n",
    "    #([\"S029_min_rel\"], BrowseTask(lambda x: x[0] < -40, \"S029\", max_entries=10)),\n",
    "    #([\"S049_min_rel\"], BrowseTask(lambda x: x[0] < -40, \"S049\", max_entries=10)),\n",
    "    #([\"S051_min_rel\"], BrowseTask(lambda x: x[0] < -40, \"S051\", max_entries=10)),\n",
    "    #([\"S007_min_rel\"], BrowseTask(lambda x: x[0] < -40, \"S007\", max_entries=10)),\n",
    "]\n",
    "\n",
    "#for spm in [\"S055\", \"S002\", \"S094\", \"S095\", \"S065\", \"S052\"]:\n",
    "#    addBrowseForNonphysSiPM(outDef, spm)"
   ]
  },
  {
   "cell_type": "code",
   "execution_count": null,
   "id": "1fd0d3fe",
   "metadata": {},
   "outputs": [],
   "source": [
    "def investigate_sipm(outDef, spm: str, *, wf_min_small_min = 3720, min_rel_min = -20) -> None:\n",
    "    outDef += [\n",
    "    #([f\"{spm}_any_noise_class\"], HistogramTask(-5,5, nbins=100, min_entries_required=20000000, logy=True)),\n",
    "    #([f\"{spm}_curr_any_noise_class\"], HistogramTask(-5,5, nbins=100, min_entries_required=20000000, logy=True)),\n",
    "    ([f\"{spm}_curr_fwhm\"], HistogramTask(0,20, nbins=200, min_entries_required=20000000, logy=True)),\n",
    "    ([f\"{spm}_curr_mode\"], HistogramTask(-2,2, nbins=100, min_entries_required=20000000, logy=True)),\n",
    "    ([f\"{spm}_curr_min_small\"], HistogramTask(-5,5, nbins=100, min_entries_required=20000000, logy=True)),\n",
    "    ([f\"{spm}_curr_min_rel\"], HistogramTask(-5,5, nbins=100, min_entries_required=20000000, logy=True)),\n",
    "    ([f\"{spm}_curr_fwhm\", f\"{spm}_curr_min_rel\"], Histogram2DTask(0,2,200, -5,5,100, min_entries_required=20000000, logz=True)),\n",
    "    #([f\"{spm}_curr_min_rel\"], HistogramTask(-5,5, nbins=100, min_entries_required=20000000, logy=True)),\n",
    "    #([f\"{spm}_any_noise_class\"], CountTask(lambda x: x[0] > 1, name=f\"{spm}_any_noise_class>1\")),\n",
    "    #([f\"{spm}_any_noise_class\", f\"{spm}_wf_mode\"], Histogram2DTask(-1, 2.5, 50, 3730, 3750, 50, lambda x: x[0], lambda x: x[1], logz=True)),\n",
    "    #([f\"{spm}_any_noise_class\", f\"{spm}_wf_min_small\"], Histogram2DTask(-1, 2.5, 50, wf_min_small_min, 3750, 50, lambda x: x[0], lambda x: x[1], logz=True)),\n",
    "    #([f\"{spm}_any_noise_class\", f\"{spm}_min_rel\"], Histogram2DTask(-1, 2.5, 50, min_rel_min, 20, 50, lambda x: x[0], lambda x: x[1], logz=True)),\n",
    "    #([f\"{spm}_any_noise_class\", f\"{spm}_wf_fwhm\"], Histogram2DTask(-1, 2.5, 50, 0, 5, 200, lambda x: x[0], lambda x: x[1], logz=True)), #fwhm max was 15\n",
    "    ]\n",
    "#investigate_sipm(outDef, \"S047\", wf_min_small_min=3700, min_rel_min=-42)\n",
    "#investigate_sipm(outDef, \"S015\", wf_min_small_min=3700, min_rel_min=-42)\n",
    "#investigate_sipm(outDef, \"S003\", wf_min_small_min=3700, min_rel_min=-42)\n",
    "#investigate_sipm(outDef, \"S095\", wf_min_small_min=3700, min_rel_min=-42)\n",
    "#investigate_sipm(outDef, \"S065\", wf_min_small_min=3700, min_rel_min=-42)\n",
    "investigate_sipm(outDef, \"S055\", wf_min_small_min=3700, min_rel_min=-42)\n"
   ]
  },
  {
   "cell_type": "code",
   "execution_count": null,
   "id": "fc4581bf",
   "metadata": {},
   "outputs": [],
   "source": [
    "if False:\n",
    "    outDef = [] # start from scratch\n",
    "    fig, ax = plt.subplots()\n",
    "    for sipm in usable_sipm_keys: # get_keys_in_detectorsystem(chmap, \"spms\"):\n",
    "        outDef.append( ([f\"{sipm}_any_noise_class\"], HistogramTask(-5,5, nbins=100, min_entries_required=20000000, logy=True, ax=ax, label=sipm)) )\n",
    "        outDef.append( ([f\"{sipm}_any_noise_class\"], CountTask(lambda x: x[0] > 1, name=f\"{sipm}_any_noise_class>1\")) )\n",
    "if False:\n",
    "    fig, ax = plt.subplots()\n",
    "    for sipm in usable_sipm_keys: # get_keys_in_detectorsystem(chmap, \"spms\"):  [\"S029\", \"S094\", \"S047\", \"S048\"]\n",
    "        outDef.append( ([f\"{sipm}_min_rel\"], HistogramTask(-250,250, nbins=500, min_entries_required=20000000, logy=True, ax=ax, label=sipm)) )\n",
    "        outDef.append( ([f\"{sipm}_min_rel\"], CountTask(lambda x: x[0] < -40, name=f\"{sipm}_min_rel<-40\")) )"
   ]
  },
  {
   "cell_type": "code",
   "execution_count": null,
   "id": "318a820e",
   "metadata": {},
   "outputs": [],
   "source": [
    "main_loop(inputArraysDef, genArrayDef, outDef, crop=True)"
   ]
  },
  {
   "cell_type": "code",
   "execution_count": null,
   "id": "dad5799b",
   "metadata": {},
   "outputs": [],
   "source": [
    "# PLAYGROUND ------------"
   ]
  },
  {
   "cell_type": "code",
   "execution_count": null,
   "id": "5672d9b5",
   "metadata": {},
   "outputs": [],
   "source": [
    "one = ak.Array([1.1, 2.2, 3.3, 4.4, 5.5, 6.6, 6.6, 6.66])\n",
    "two = ak.Array([10,  11,  12,  13,  14,  15,  15,  15])\n",
    "\n",
    "lorem = ak.zip([one, two])\n",
    "#np.unique(lorem)\n",
    "lorem\n",
    "np.unique(lorem, return_counts=True)"
   ]
  },
  {
   "cell_type": "code",
   "execution_count": null,
   "id": "f64c60f5",
   "metadata": {},
   "outputs": [],
   "source": [
    "one = ak.Array([[1,2], [], [3], [4,5], [6]])\n",
    "two = ak.Array([[99], [98, 97], [96, 95], [90, 80], []])\n",
    "ak.flatten(ak.cartesian([one, two], axis=-1), axis=-1)"
   ]
  },
  {
   "cell_type": "code",
   "execution_count": null,
   "id": "52a073c7",
   "metadata": {},
   "outputs": [],
   "source": [
    "ys = 2\n",
    "xs = 3\n",
    "draw_array = np.ndarray((xs, ys))\n",
    "n = 0\n",
    "for x in range(len(draw_array)):\n",
    "    for y in range(len(draw_array[x])):\n",
    "        draw_array[x][y] = n\n",
    "        n += 1\n",
    "draw_array"
   ]
  },
  {
   "cell_type": "code",
   "execution_count": null,
   "id": "afc66706",
   "metadata": {},
   "outputs": [],
   "source": [
    "fig, ax = plt.subplots()\n",
    "xedges = [0, 1, 2]\n",
    "yedges = [0, 1]\n",
    "ax.pcolor(xedges, yedges, draw_array.T)\n",
    "ax.set_xticks([0, 1, 2], [\"lorem\", \"ipsum\", \"dolor\"])\n",
    "ax.set_yticks([0, 1], [\"TC-call\", \"Group meeting\"])"
   ]
  },
  {
   "cell_type": "code",
   "execution_count": null,
   "id": "d4b02e3f",
   "metadata": {},
   "outputs": [],
   "source": [
    "range(4)"
   ]
  },
  {
   "cell_type": "code",
   "execution_count": null,
   "id": "0d09f818",
   "metadata": {},
   "outputs": [],
   "source": [
    "one = ak.Array([[[1,2], [3,4]], None, [[3, 7], [4,5]], [[6,7], [7,5]]])\n",
    "msk = ak.Array([[True, False], None, [True, False], [True, False]])\n",
    "ak.sum(one, axis=-1)[msk][:,0] # select the 1st from each inner list, keeping outer None around (other than flatten or ravel)"
   ]
  },
  {
   "cell_type": "code",
   "execution_count": null,
   "id": "51974513",
   "metadata": {},
   "outputs": [],
   "source": [
    "ak.sum(one, axis=-1)"
   ]
  },
  {
   "cell_type": "code",
   "execution_count": null,
   "id": "bd055702",
   "metadata": {},
   "outputs": [],
   "source": []
  }
 ],
 "metadata": {
  "kernelspec": {
   "display_name": "SiPM QC Analysis",
   "language": "python",
   "name": "sipm_qc_ana"
  },
  "language_info": {
   "codemirror_mode": {
    "name": "ipython",
    "version": 3
   },
   "file_extension": ".py",
   "mimetype": "text/x-python",
   "name": "python",
   "nbconvert_exporter": "python",
   "pygments_lexer": "ipython3",
   "version": "3.12.10"
  }
 },
 "nbformat": 4,
 "nbformat_minor": 5
}
