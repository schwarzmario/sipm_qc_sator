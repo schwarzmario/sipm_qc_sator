{
 "cells": [
  {
   "cell_type": "markdown",
   "id": "35a2312e",
   "metadata": {},
   "source": [
    "## PE spectra"
   ]
  },
  {
   "cell_type": "code",
   "execution_count": null,
   "id": "a00a1f61",
   "metadata": {},
   "outputs": [],
   "source": [
    "%matplotlib inline\n",
    "\n",
    "import matplotlib.pyplot as plt\n",
    "import matplotlib\n",
    "import pandas as pd\n",
    "import numpy as np\n",
    "import awkward as ak\n",
    "import os\n",
    "import pint\n",
    "import glob\n",
    "import re\n",
    "from functools import partial\n",
    "\n",
    "# I use the SiPM QC Analysis kernel (from .venv/bin)\n",
    "\n",
    "u = pint.get_application_registry()\n",
    "\n",
    "from lgdo import lh5\n",
    "from lgdo.lh5 import LH5Store, LH5Iterator, read, read_as, ls, show\n",
    "from dspeed.vis.waveform_browser import WaveformBrowser\n",
    "from legendmeta import LegendMetadata\n",
    "\n",
    "from latools.utils import get_key_for_rawid, get_detector_system_for_channelname, get_filtered_keys_in_detectorsystem\n",
    "from latools import core\n",
    "from latools.browse import BrowseTask, BrowseAnydetTask\n",
    "from latools.histogram import HistogramTask, Histogram2DTask, CategoricalHistogramTask, CategoricalHistogram2DTask, MultiarrayCategoricalHistogramTask\n",
    "from latools.counter import CountTask\n",
    "\n",
    "plt.rcParams[\"figure.figsize\"] = (14, 4)\n",
    "plt.rcParams[\"figure.facecolor\"] = \"white\"\n",
    "plt.rcParams[\"font.size\"] = 14\n",
    "\n",
    "proj_dir = \"/mnt/atlas02/projects/legend/sipm_qc\"\n",
    "lmeta = LegendMetadata(os.path.join(proj_dir, \"metadata/legend-metadata-schwarz\"))\n",
    "chmap = lmeta.channelmap(\"20250624T140504Z\")"
   ]
  },
  {
   "cell_type": "code",
   "execution_count": null,
   "id": "25a8b345",
   "metadata": {},
   "outputs": [],
   "source": [
    "old_dsp_dir = os.path.join(proj_dir, \"manual_dsp/generated/p14r006dsp-dsp002\")\n",
    "#dsp_dir = os.path.join(proj_dir, \"data/tier/dsp/lac/p14/r006\")\n",
    "old_dsp_files = glob.glob(old_dsp_dir+\"/l200-*-tier_dsp.lh5\")\n",
    "old_dsp_files.sort()\n",
    "\n",
    "new_dsp_dir = os.path.join(proj_dir, \"manual_dsp/generated/p14r006dsp-dsp003\")\n",
    "#dsp_dir = os.path.join(proj_dir, \"data/tier/dsp/lac/p14/r006\")\n",
    "new_dsp_files = glob.glob(new_dsp_dir+\"/l200-*-tier_dsp.lh5\")\n",
    "new_dsp_files.sort()"
   ]
  },
  {
   "cell_type": "code",
   "execution_count": null,
   "id": "5edd2a44",
   "metadata": {},
   "outputs": [],
   "source": [
    "# These 49 rawids I see in the event tier of p14 r006 lac. Some channels existing in raw & dsp (e.g. S054) don't show up here...\n",
    "rawids_used_in_evt = [1052803, 1052804, 1054401, 1054402, 1054403, 1054404, 1054405, 1056000, 1056001, 1056003, 1056004, 1056005, 1057601, 1057602, 1057603, 1057604, 1057605, 1059200, 1059201, 1059202, 1059204, 1059205, 1060801, 1060803, 1060804, 1060805, 1062400, 1062401, 1062402, 1062403, 1062404, 1062405, 1064000, 1064001, 1064002, 1064003, 1064004, 1065600, 1065601, 1065602, 1065603, 1065604, 1065605, 1067200, 1067201, 1067202, 1067203, 1067204, 1067205]\n",
    "usable_sipm_keys = get_filtered_keys_in_detectorsystem(chmap, \"spms\", rawids_used_in_evt)\n",
    "usable_sipm_keys.append(\"S058\")\n",
    "usable_sipm_keys.sort()"
   ]
  },
  {
   "cell_type": "code",
   "execution_count": null,
   "id": "b457eb53",
   "metadata": {},
   "outputs": [],
   "source": [
    "# set up chain's input data\n",
    "inputArraysDef = []\n",
    "\n",
    "def generate_SiPM_hit_defs():\n",
    "    ret = []\n",
    "    for sipm in usable_sipm_keys:\n",
    "        ret += [(f\"{sipm}_energy\", f\"{sipm}/dsp/energy\")] # per event and per pulse\n",
    "    return ret\n",
    "inputArraysDef += generate_SiPM_hit_defs()"
   ]
  },
  {
   "cell_type": "code",
   "execution_count": null,
   "id": "13dc5f21",
   "metadata": {},
   "outputs": [],
   "source": [
    "# set up processing functions\n",
    "genArrayDef = []\n",
    "\n",
    "def generate_SiPM_hit_gen_defs():\n",
    "    ret = []\n",
    "    for sipm in usable_sipm_keys:\n",
    "        ret += [\n",
    "            ([f\"{sipm}_energy\"], f\"{sipm}_energy_sum\", lambda x: ak.sum(x[0], axis=-1)) # per pulse\n",
    "        ]\n",
    "    return ret\n",
    "genArrayDef += generate_SiPM_hit_gen_defs()"
   ]
  },
  {
   "cell_type": "code",
   "execution_count": null,
   "id": "c62c6781",
   "metadata": {},
   "outputs": [],
   "source": [
    "old_dsptables = core.compile_arrays(inputArraysDef, genArrayDef, tier_filename_dict=[{\"dsp\": f} for f in old_dsp_files])\n",
    "new_dsptables = core.compile_arrays(inputArraysDef, genArrayDef, tier_filename_dict=[{\"dsp\": f} for f in new_dsp_files])"
   ]
  },
  {
   "cell_type": "code",
   "execution_count": null,
   "id": "2bbf8a11",
   "metadata": {},
   "outputs": [],
   "source": [
    "fig, ax = plt.subplots()\n",
    "spm = \"S057\"\n",
    "core.oneshot([old_dsptables[f\"{spm}_energy\"]], HistogramTask(-1, 20, 1000, lambda x: ak.flatten(x[0]), logy=True, ax=ax))\n",
    "core.oneshot([new_dsptables[f\"{spm}_energy\"]], HistogramTask(-1, 20, 1000, lambda x: ak.flatten(x[0]), logy=True, ax=ax))"
   ]
  },
  {
   "cell_type": "code",
   "execution_count": null,
   "id": "d4de83d9",
   "metadata": {},
   "outputs": [],
   "source": [
    "fig, ax = plt.subplots()\n",
    "spm = \"S085\"\n",
    "core.oneshot([old_dsptables[f\"{spm}_energy\"]], HistogramTask(-1, 7, 1000, lambda x: ak.flatten(x[0]), logy=True, ax=ax))\n",
    "core.oneshot([new_dsptables[f\"{spm}_energy\"]], HistogramTask(-1, 7, 1000, lambda x: ak.flatten(x[0]), logy=True, ax=ax))"
   ]
  },
  {
   "cell_type": "code",
   "execution_count": null,
   "id": "69804840",
   "metadata": {},
   "outputs": [],
   "source": [
    "spm_iter = iter(usable_sipm_keys)\n",
    "x = 6\n",
    "y = 9\n",
    "with plt.rc_context({\"figure.figsize\": (15, 18)}):\n",
    "    fig, ax = plt.subplots(y, x)\n",
    "for i in range(y):\n",
    "    for j in range(x):\n",
    "        ax[i][j].get_yaxis().set_visible(False)\n",
    "        ax[i][j].get_xaxis().set_visible(False)\n",
    "        try:\n",
    "            spm = next(spm_iter)\n",
    "        except StopIteration:\n",
    "            continue\n",
    "        core.oneshot([old_dsptables[f\"{spm}_energy\"]], HistogramTask(-0.1, 6, 1000, lambda x: ak.flatten(x[0]), logy=True, ax=ax[i][j]))\n",
    "        core.oneshot([new_dsptables[f\"{spm}_energy\"]], HistogramTask(-0.1, 6, 1000, lambda x: ak.flatten(x[0]), logy=True, ax=ax[i][j]))\n",
    "        ax[i][j].text(0.95, 0.99, spm,\n",
    "            verticalalignment='top', horizontalalignment='right',\n",
    "            transform=ax[i][j].transAxes)\n",
    "            #color='green', fontsize=15)\n",
    "fig.subplots_adjust(wspace=0, hspace=0)"
   ]
  },
  {
   "cell_type": "code",
   "execution_count": null,
   "id": "4ed428a3",
   "metadata": {},
   "outputs": [],
   "source": [
    "len(usable_sipm_keys)"
   ]
  },
  {
   "cell_type": "code",
   "execution_count": null,
   "id": "ce11d230",
   "metadata": {},
   "outputs": [],
   "source": []
  }
 ],
 "metadata": {
  "kernelspec": {
   "display_name": "SiPM QC Analysis",
   "language": "python",
   "name": "sipm_qc_ana"
  },
  "language_info": {
   "codemirror_mode": {
    "name": "ipython",
    "version": 3
   },
   "file_extension": ".py",
   "mimetype": "text/x-python",
   "name": "python",
   "nbconvert_exporter": "python",
   "pygments_lexer": "ipython3",
   "version": "3.12.10"
  }
 },
 "nbformat": 4,
 "nbformat_minor": 5
}
