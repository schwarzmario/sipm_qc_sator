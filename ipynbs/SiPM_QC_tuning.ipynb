{
 "cells": [
  {
   "cell_type": "markdown",
   "id": "35a2312e",
   "metadata": {},
   "source": [
    "## Tuning of SiPM cut threshold"
   ]
  },
  {
   "cell_type": "code",
   "execution_count": null,
   "id": "a00a1f61",
   "metadata": {},
   "outputs": [],
   "source": [
    "%matplotlib inline\n",
    "\n",
    "import matplotlib.pyplot as plt\n",
    "import matplotlib\n",
    "import pandas as pd\n",
    "import numpy as np\n",
    "import awkward as ak\n",
    "import os\n",
    "import pint\n",
    "import glob\n",
    "import re\n",
    "from functools import partial\n",
    "\n",
    "# I use the SiPM QC Analysis kernel (from .venv/bin)\n",
    "\n",
    "u = pint.get_application_registry()\n",
    "\n",
    "from lgdo import lh5\n",
    "from lgdo.lh5 import LH5Store, LH5Iterator, read, read_as, ls, show\n",
    "from dspeed.vis.waveform_browser import WaveformBrowser\n",
    "from legendmeta import LegendMetadata\n",
    "\n",
    "from latools.utils import get_key_for_rawid, get_detector_system_for_channelname, get_filtered_keys_in_detectorsystem\n",
    "from latools import core\n",
    "from latools.browse import BrowseTask, BrowseAnydetTask\n",
    "from latools.histogram import HistogramTask, Histogram2DTask, CategoricalHistogramTask, CategoricalHistogram2DTask, MultiarrayCategoricalHistogramTask\n",
    "from latools.counter import CountTask\n",
    "\n",
    "plt.rcParams[\"figure.figsize\"] = (14, 4)\n",
    "plt.rcParams[\"figure.facecolor\"] = \"white\"\n",
    "plt.rcParams[\"font.size\"] = 14\n",
    "\n",
    "proj_dir = \"/mnt/atlas02/projects/legend/sipm_qc\"\n",
    "lmeta = LegendMetadata(os.path.join(proj_dir, \"metadata/legend-metadata-schwarz\"))\n",
    "chmap = lmeta.channelmap(\"20250624T140504Z\")"
   ]
  },
  {
   "cell_type": "code",
   "execution_count": null,
   "id": "25a8b345",
   "metadata": {},
   "outputs": [],
   "source": [
    "# custom_chains/dsp-002.yaml\n",
    "dsp_dir = os.path.join(proj_dir, \"manual_dsp/generated/p14r006dsp-dsp002\")\n",
    "dsp_files = glob.glob(dsp_dir+\"/l200-*-tier_dsp.lh5\")\n",
    "dsp_files.sort()\n",
    "\n",
    "raw_dir = os.path.join(proj_dir, \"data/tier/raw/lac/p14/r006\")\n",
    "\n",
    "def gimme_raw_filename_from_dsp(dspfilename: str):\n",
    "    return dspfilename.replace(dsp_dir, raw_dir).replace(\"tier_dsp\", \"tier_raw\")"
   ]
  },
  {
   "cell_type": "code",
   "execution_count": null,
   "id": "c2436415",
   "metadata": {},
   "outputs": [],
   "source": [
    "main_loop = partial(core.main_loop, tier_filename_dict=\n",
    "                    [{\"raw\": gimme_raw_filename_from_dsp(dsp), \"dsp\": dsp} for dsp in dsp_files])"
   ]
  },
  {
   "cell_type": "code",
   "execution_count": null,
   "id": "5edd2a44",
   "metadata": {},
   "outputs": [],
   "source": [
    "# These 49 rawids I see in the event tier of p14 r006 lac. Some channels existing in raw & dsp (e.g. S054) don't show up here...\n",
    "rawids_used_in_evt = [1052803, 1052804, 1054401, 1054402, 1054403, 1054404, 1054405, 1056000, 1056001, 1056003, 1056004, 1056005, 1057601, 1057602, 1057603, 1057604, 1057605, 1059200, 1059201, 1059202, 1059204, 1059205, 1060801, 1060803, 1060804, 1060805, 1062400, 1062401, 1062402, 1062403, 1062404, 1062405, 1064000, 1064001, 1064002, 1064003, 1064004, 1065600, 1065601, 1065602, 1065603, 1065604, 1065605, 1067200, 1067201, 1067202, 1067203, 1067204, 1067205]\n",
    "usable_sipm_keys = get_filtered_keys_in_detectorsystem(chmap, \"spms\", rawids_used_in_evt)"
   ]
  },
  {
   "cell_type": "code",
   "execution_count": null,
   "id": "b457eb53",
   "metadata": {},
   "outputs": [],
   "source": [
    "# set up chain's input data\n",
    "inputArraysDef = []\n",
    "\n",
    "def generate_SiPM_hit_defs():\n",
    "    ret = []\n",
    "    for sipm in usable_sipm_keys: # get_keys_in_detectorsystem(chmap, \"spms\"):\n",
    "        ret += [(f\"{sipm}_wf_lower_hwhm\", f\"{sipm}/dsp/wf_lower_hwhm\"), (f\"{sipm}_wf_mode\", f\"{sipm}/dsp/wf_mode\"), (f\"{sipm}_wf_min_small\", f\"{sipm}/dsp/wf_min_small\")]\n",
    "    return ret\n",
    "inputArraysDef += generate_SiPM_hit_defs()"
   ]
  },
  {
   "cell_type": "code",
   "execution_count": null,
   "id": "13dc5f21",
   "metadata": {},
   "outputs": [],
   "source": [
    "# set up processing functions\n",
    "genArrayDef = []\n",
    "\n",
    "def generate_SiPM_hit_gen_defs():\n",
    "    ret = []\n",
    "    for sipm in usable_sipm_keys: # get_keys_in_detectorsystem(chmap, \"spms\"):\n",
    "        ret += [\n",
    "            ([f\"{sipm}_wf_min_small\", f\"{sipm}_wf_mode\"], f\"{sipm}_min_rel\", lambda x: x[0] - x[1]),\n",
    "            ([f\"{sipm}_min_rel\", f\"{sipm}_wf_lower_hwhm\"], f\"{sipm}_any_noise_class\", lambda x: (-x[0])/(4*x[1])),\n",
    "        ]\n",
    "    return ret\n",
    "genArrayDef += generate_SiPM_hit_gen_defs()"
   ]
  },
  {
   "cell_type": "code",
   "execution_count": null,
   "id": "69374b57",
   "metadata": {},
   "outputs": [],
   "source": [
    "outDef = []"
   ]
  },
  {
   "cell_type": "code",
   "execution_count": null,
   "id": "b7a5f509",
   "metadata": {},
   "outputs": [],
   "source": [
    "xtalk_counts = MultiarrayCategoricalHistogramTask([f\"{s}_any_noise_class\" for s in usable_sipm_keys],\n",
    "                    lambda x: x[0] > 1, keymap_fcn=lambda long: long[:4], logy=True)\n",
    "outDef.append((xtalk_counts.get_shortnames(), xtalk_counts))"
   ]
  },
  {
   "cell_type": "code",
   "execution_count": null,
   "id": "1fd0d3fe",
   "metadata": {},
   "outputs": [],
   "source": [
    "def investigate_sipm(outDef, spm: str, ) -> None:\n",
    "    outDef += [\n",
    "    ([f\"{spm}_min_rel\"], HistogramTask(-50,50, nbins=200, min_entries_required=20000000, logy=True)),\n",
    "    ([f\"{spm}_wf_lower_hwhm\"], HistogramTask(0,10, nbins=200, min_entries_required=20000000, logy=True)),\n",
    "    ([f\"{spm}_min_rel\", f\"{spm}_wf_lower_hwhm\"], Histogram2DTask(-50,50,200, 0,10,200, min_entries_required=20000000, logz=True)),\n",
    "    ([f\"{spm}_min_rel\", f\"{spm}_wf_lower_hwhm\"], HistogramTask(-5,10, nbins=200, fcn=lambda x: x[0]/(4*x[1]), min_entries_required=20000000, logy=True, label=spm)),\n",
    "    ([f\"{spm}_min_rel\", f\"{spm}_wf_lower_hwhm\"], BrowseTask(lambda x: x[0] < (-4*x[1]), spm, max_entries=10, verbosity=-1, title=True)),\n",
    "    ]\n",
    "\n",
    "for spm in usable_sipm_keys:\n",
    "    investigate_sipm(outDef, spm)"
   ]
  },
  {
   "cell_type": "code",
   "execution_count": null,
   "id": "318a820e",
   "metadata": {},
   "outputs": [],
   "source": [
    "main_loop(inputArraysDef, genArrayDef, outDef, crop=False)"
   ]
  },
  {
   "cell_type": "code",
   "execution_count": null,
   "id": "9a9cd403",
   "metadata": {},
   "outputs": [],
   "source": []
  }
 ],
 "metadata": {
  "kernelspec": {
   "display_name": "SiPM QC Analysis",
   "language": "python",
   "name": "sipm_qc_ana"
  },
  "language_info": {
   "codemirror_mode": {
    "name": "ipython",
    "version": 3
   },
   "file_extension": ".py",
   "mimetype": "text/x-python",
   "name": "python",
   "nbconvert_exporter": "python",
   "pygments_lexer": "ipython3",
   "version": "3.12.10"
  }
 },
 "nbformat": 4,
 "nbformat_minor": 5
}
